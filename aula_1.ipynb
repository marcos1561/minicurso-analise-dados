{
 "cells": [
  {
   "cell_type": "markdown",
   "id": "26e3466a",
   "metadata": {},
   "source": [
    "# Bem vindos ao mini curso de <span style=\"font-size:1em; font-weight:bold; background: linear-gradient(90deg, #2E86C1, #48C9B0, #F4D03F); -webkit-background-clip: text; color: transparent;\">Análise de Dados</span>!\n",
    "\n",
    "- Nome: Marcos Pasa\n",
    "\n",
    "- Email: marcospasa130@gmail.coim\n",
    "\n",
    "- GitHub: https://github.com/marcos1561\n",
    "\n",
    "- Sala no Campus Vale: M207\n",
    "    \n",
    "    Quando geralmente estou na sala:\n",
    "    - Segunda e Quarta: Durante a tarde\n",
    "    - Terça e Quinta: Durante a manhã\n",
    "---"
   ]
  },
  {
   "cell_type": "markdown",
   "id": "3e2e8d96",
   "metadata": {},
   "source": [
    "# <u>Setup Remoto</u> para as aulas\n",
    "Rode os notebooks pelo Google Colab: https://colab.google/\n",
    "\n",
    "# <u>Setup Local</u> para as aulas\n",
    "\n",
    "## Instalando o `Python`\n",
    "\n",
    "### Linux\n",
    "Provavelmente já possui `Python`, mas pode ser instalado com o `apt`\n",
    "\n",
    "```bash\n",
    "sudo apt update\n",
    "sudo apt install python3\n",
    "```\n",
    "\n",
    "### Windows\n",
    "Baixe o python aqui: https://www.python.org/downloads/windows/\n",
    "\n",
    "## Criando ambiente virtual (Opcional, mas recomendado)\n",
    "Vamos organizar todo o conteúdo deste curso dentro de alguma pasta, onde será criado um ambiente virtual para encapsular as dependência e impedir conflitos com outros projetos\n",
    "```bash\n",
    "cd caminho/para/a/pasta/das/aulas\n",
    "pip -m venv venv # Cria um ambiente virtual na pasta atual chamado de `venv`\n",
    "```\n",
    "após criar o ambiente, precisamos ativá-lo\n",
    "\n",
    "| OS      | Comando                           |\n",
    "|---------|-----------------------------------|\n",
    "| Linux   | `source <venv>/bin/activate`      |\n",
    "| Windows | `<venv>\\Scripts\\Activate.ps1`     |\n",
    "\n",
    "<br>\n",
    "\n",
    "> OBS: No windows, talvez seja necessário mudar a política de execução: \n",
    "> ```PS\n",
    "> Set-ExecutionPolicy -ExecutionPolicy RemoteSigned -Scope CurrentUser\n",
    "> ```\n",
    "\n",
    "> Mais informações sobre ambientes virtuais: https://docs.python.org/pt-br/dev/library/venv.html#creating-virtual-environments\n",
    "\n",
    "## Instalando o `Jupyter`\n",
    "Instale com o pip\n",
    "```bash\n",
    "pip install notebook\n",
    "```\n",
    "O Jupyter Notebook pode ser iniciado da seguinte forma\n",
    "```bash\n",
    "jupyter notebook\n",
    "```\n",
    "\n",
    "---"
   ]
  },
  {
   "cell_type": "markdown",
   "id": "9fe2371a",
   "metadata": {},
   "source": [
    "# Numpy\n",
    "\n",
    "- Pacote **fundamental** em computação científica em Python.\n",
    "\n",
    "- Nos permite construir e operar com arrays n-dimensionais.\n",
    "\n",
    "- O astro do Numpy é o objeto `numpy.ndarray`.\n",
    "\n",
    "- Documentação oficial do Numpy: https://numpy.org/doc/stable/index.html "
   ]
  },
  {
   "cell_type": "markdown",
   "id": "3a2a4d80",
   "metadata": {},
   "source": [
    "## Qual a diferença entre `ndarray` e `list`?\n",
    "- **Tamanho**: As listas padrões do python (`list`) se comportam como um array de tamanho dinâmica, ou seja, o seu tamanho pode ser variado em tempo de execução, já o `ndarray` possui tamanho fixo, mudar seu tamanho implica em criar um nova cópia e deletar a original.\n",
    "\n",
    "- **Tipo dos elementos**: `list` pode conter elementos de tipos variados, já o `ndarray` exige que todos os elementos sejam do mesmo tipo. Na maioria dos casos, isso implica que o espaço ocupado na memória de um elemento do `ndarray` é sempre o mesmo.\n",
    "\n",
    "- **Velocidade**: Operações entre `ndarray` usam `C` por baixo dos panos, o que torna o uso do Numpy muito mais eficiente do que as listas do Python."
   ]
  },
  {
   "cell_type": "code",
   "execution_count": 3,
   "id": "ad4706af",
   "metadata": {},
   "outputs": [],
   "source": [
    "import time\n",
    "import numpy as np\n",
    "\n",
    "def time_function(name, n, func, args):\n",
    "    '''\n",
    "    Mede o tempo de execução médio da função `func`\n",
    "    entre `n` chamadas com os argumentos `args`.\n",
    "    '''\n",
    "    times = np.empty(n)\n",
    "    for i in range(n):\n",
    "        start = time.perf_counter()\n",
    "        func(*args)\n",
    "        end = time.perf_counter()\n",
    "        times[i] = end - start\n",
    "    times *= 1000\n",
    "    mean_time = times.mean()\n",
    "    mean_std = times.std() / n**.5\n",
    "    print(f\"{name}: {mean_time:.3f} ± {mean_std:.3f} ms\")"
   ]
  },
  {
   "cell_type": "code",
   "execution_count": 30,
   "id": "01184f7c",
   "metadata": {},
   "outputs": [
    {
     "name": "stdout",
     "output_type": "stream",
     "text": [
      "python list: 4.801 ± 0.090 ms\n",
      "numpy      : 0.051 ± 0.003 ms\n",
      "numpy loop : 16.707 ± 0.339 ms\n"
     ]
    }
   ],
   "source": [
    "'''\n",
    "Comparando a velocidade entre `list` e `ndarray` usando\n",
    "a multiplicação par a par entre vetores.\n",
    "'''\n",
    "\n",
    "def using_slow_python(a, b, c):\n",
    "    for i in range(len(a)):\n",
    "        c[i] = a[i] * b[i]\n",
    "\n",
    "def using_fast_numpy(a, b, c):\n",
    "    c[:] = a * b\n",
    "    \n",
    "\n",
    "num_elements = 10000\n",
    "\n",
    "# Criando as litas do python \n",
    "a_list = [i for i in range(num_elements)]\n",
    "b_list = [i*2 for i in range(num_elements)]\n",
    "c_list = [0 for _ in range(num_elements)]\n",
    "python_args = (a_list, b_list, c_list)\n",
    "\n",
    "# Criando os arrays do numpy\n",
    "a_array = np.arange(num_elements)\n",
    "b_array = 2 * a_array\n",
    "c_array = np.empty(num_elements, int)\n",
    "numpy_args = (a_array, b_array, c_array)\n",
    "\n",
    "n = 100\n",
    "time_function(\"python list\", n, using_slow_python, python_args)\n",
    "time_function(\"numpy      \", n, using_fast_numpy, numpy_args)\n",
    "time_function(\"numpy loop \", n, using_slow_python, numpy_args)"
   ]
  },
  {
   "cell_type": "markdown",
   "id": "403df1e2",
   "metadata": {},
   "source": [
    "## Principais funcionalidades do Numpy: `Vectorization` e `Broadcasting`\n",
    "\n",
    "### Vectorization\n",
    "Em poucas palavras, vetorização é o ato de escrever código sem explicitar loops, indexação, etc., como `c = b * a` - obviamente os loops eventualmente acontecem, mas quando o código está vetorizado, eles ocorrem em código otimizado e pré-compilado em `C`. \n",
    "\n",
    "### Broadcasting\n",
    "Broadcasting se refere a como o Numpy lida com operações entre arrays com diferentes tamanhos. Na maioria dos casos, o menor array é \"transmitido\" (__broadcast__) pelo maior array, para que tenham tamanhos compatíveis.\n",
    "\n",
    "Ex: Adicionar um vetor em cada linha de uma matrix, ou seja, algo com essa cara:\n",
    "$$\n",
    "\\begin{bmatrix}\n",
    "1 & 2 & 3 \\\\\n",
    "4 & 5 & 6 \\\\\n",
    "7 & 8 & 9\n",
    "\\end{bmatrix}\n",
    "+\n",
    "\\begin{bmatrix}\n",
    "10 & 20 & 30 \\\\\n",
    "10 & 20 & 30 \\\\\n",
    "10 & 20 & 30 \\\\\n",
    "\\end{bmatrix}\n",
    "=\n",
    "\\begin{bmatrix}\n",
    "11 & 22 & 33 \\\\\n",
    "14 & 25 & 36 \\\\\n",
    "17 & 28 & 39\n",
    "\\end{bmatrix}\n",
    "$$"
   ]
  },
  {
   "cell_type": "code",
   "execution_count": 31,
   "id": "d97888fe",
   "metadata": {},
   "outputs": [
    {
     "name": "stdout",
     "output_type": "stream",
     "text": [
      "a.shape: (3, 3)\n",
      "b.shape: (3,)\n",
      "a + b:\n",
      " [[11 22 33]\n",
      " [14 25 36]\n",
      " [17 28 39]]\n"
     ]
    }
   ],
   "source": [
    "a = np.array([\n",
    "    [1, 2, 3],\n",
    "    [4, 5, 6],\n",
    "    [7, 8, 9],\n",
    "])\n",
    "\n",
    "b = np.array([10, 20, 30])\n",
    "\n",
    "print(\"a.shape:\", a.shape)\n",
    "print(\"b.shape:\", b.shape)\n",
    "print(\"a + b:\\n\", a + b)"
   ]
  },
  {
   "cell_type": "markdown",
   "id": "32d0b739",
   "metadata": {},
   "source": [
    "Repare que `b` é um vetor unidimensional e não uma matrix, mas mesmo assim o código funcionou, `b` foi transmitido pelas linhas de `a` permitindo a operação. O broadcast funciona da seguinte forma:\n",
    "\n",
    "- As dimensões (atributo `.shape` dos arrays) de `a` e `b` são comparadas, uma por uma, da direita para esquerda .\n",
    "- A comparação de uma dimensão é válida se os seus tamanhos são iguais ou uma delas possui tamanho 1, no último caso, o resultado da comparação é o tamanho da maior dimensão.\n",
    "- Quando o número de dimensões não é o mesmo entre os arrays, dimensões com tamanho 1 são adicionas à esquerda do menor array, até ambos possuírem o mesmo número de dimensões. \n",
    "\n",
    "No exemplo acima, temos `a.shape = (3, 3)` e `b.shape = (3,)`, então, primeiro é adicionado uma dimensão de tamanho 1 em `b` (resultando no shape (1, 3)) e, em sequência, é feito a comparação dimensão por dimensão\n",
    "| Array     | Shape   |\n",
    "|-----------|---------|\n",
    "| a         | 3 x 3   |\n",
    "| b         | 1 x 3   |\n",
    "| Resultado | 3 x 3   |\n",
    "\n",
    "ou seja, o vetor `b` foi repetido 3 vezes nas linhas de `a` na operação `a + b`.\n",
    "\n",
    "> OBS: O broadcasting é inteligente o suficiente para não gerar cópias desnecessárias. Dependendo dos tamanhos dos arrays, usar\n",
    "> broadcast é mais rápido do que manualmente duplicar o menor array."
   ]
  },
  {
   "cell_type": "code",
   "execution_count": 37,
   "id": "4f5f8e60",
   "metadata": {},
   "outputs": [
    {
     "name": "stdout",
     "output_type": "stream",
     "text": [
      "Com Broadcast: 292.630 ± 4.271 ms\n",
      "Sem Broadcast: 250.419 ± 3.610 ms\n"
     ]
    }
   ],
   "source": [
    "\"\"\"\n",
    "Testando a velocidade da soma de matrix e vetor, com e sem broadcast\n",
    "\"\"\"\n",
    "\n",
    "def func(a, b):\n",
    "    a + b\n",
    "\n",
    "array_size = 5000\n",
    "\n",
    "a = np.random.random((array_size, array_size)) # Matrix array_size x array_size aleatória\n",
    "b_vec = np.random.random(array_size) # Vetor aleatório de tamanho array_size \n",
    "b_matrix = np.tile(b_vec, (array_size, 1)) # Matrix array_size x array_size criado repetindo o vetor b\n",
    "\n",
    "n = 200\n",
    "time_function(\"Com Broadcast\", n, func, (a, b_vec))\n",
    "time_function(\"Sem Broadcast\", n, func, (a, b_matrix))"
   ]
  },
  {
   "cell_type": "markdown",
   "id": "dcfb7529",
   "metadata": {},
   "source": [
    "### Exercício: 1\n",
    "\n",
    "Anteriormente, \"deslocamos\" todas as linhas de uma matrix por um vetor, agora seu objetivo é deslocar todas as colunas de uma matrix por um vetor.\n",
    "\n",
    "Crie a seguinte matrix 3x3\n",
    "\n",
    "$$\n",
    "a = \\begin{bmatrix}\n",
    "0 & 1 & 2 \\\\\n",
    "3 & 4 & 5 \\\\\n",
    "6 & 7 & 8\n",
    "\\end{bmatrix}\n",
    "$$\n",
    "\n",
    "e desloque todas as colunas pelo vetor\n",
    "\n",
    "$$\n",
    "b = \\begin{bmatrix}\n",
    "0 & 1 & 2 \\\\\n",
    "\\end{bmatrix}\n",
    "$$\n",
    "\n",
    "o resultado deve dar\n",
    "\n",
    "$$\n",
    "\\begin{bmatrix}\n",
    "0 & 1 & 2 \\\\\n",
    "4 & 5 & 6 \\\\\n",
    "8 & 9 & 10\n",
    "\\end{bmatrix}\n",
    "$$"
   ]
  },
  {
   "cell_type": "code",
   "execution_count": null,
   "id": "72d73f21",
   "metadata": {},
   "outputs": [],
   "source": [
    "# Escreva seu código aqui"
   ]
  },
  {
   "cell_type": "markdown",
   "id": "5aae6f57",
   "metadata": {},
   "source": [
    "<details>\n",
    "<summary>Solução: Clique para expandir</summary>\n",
    "\n",
    "```python\n",
    "a = np.arange(9).reshape(3, 3)\n",
    "b = np.arange(3).reshape(3, 1)\n",
    "\n",
    "a + b\n",
    "```\n",
    "</details>"
   ]
  },
  {
   "cell_type": "markdown",
   "id": "acd1dd8b",
   "metadata": {},
   "source": [
    "## Como um `np.ndarray` está organizado na memória?\n",
    "\n",
    "Os dados de arrays do Numpy estão organizadas na memória de forma compacta, os elementos estão lado a lado.\n",
    "Para saber a ordem dos elementos na memória, podemos chamar os métodos `.flatten()` ou `.ravel()`, que linearizam o array em questão, ou seja, retornam um array 1-D que contém os dados do array original."
   ]
  },
  {
   "cell_type": "code",
   "execution_count": 42,
   "id": "d13b3bf8",
   "metadata": {},
   "outputs": [
    {
     "name": "stdout",
     "output_type": "stream",
     "text": [
      "[[0 1 2]\n",
      " [3 4 5]\n",
      " [6 7 8]]\n",
      "[0 1 2 3 4 5 6 7 8]\n"
     ]
    }
   ],
   "source": [
    "a = np.arange(9).reshape(3, 3)\n",
    "print(a)\n",
    "print(a.flatten())"
   ]
  },
  {
   "cell_type": "markdown",
   "id": "53feae1c",
   "metadata": {},
   "source": [
    "pelo resultado acima, vemos que a organização é _row major_, ou seja, os elementos estão dispostos na memória linha por linha. Isso significa que iteração nas colunas (mantendo uma linha fixa) é mais rápido do que iteração nas linhas (mantendo uma coluna fixa) "
   ]
  },
  {
   "cell_type": "code",
   "execution_count": 44,
   "id": "465a0077",
   "metadata": {},
   "outputs": [
    {
     "name": "stdout",
     "output_type": "stream",
     "text": [
      "Coluna por coluna:: 76.019 ± 1.397 ms\n",
      "Linha por linha  :: 80.705 ± 0.783 ms\n"
     ]
    }
   ],
   "source": [
    "\"\"\"\n",
    "Comparando velocidade entre iterar linha por linha e coluna por coluna.\n",
    "\"\"\"\n",
    "\n",
    "def iter_col_by_col(a):\n",
    "    num_rows, num_cols = a.shape\n",
    "    sum = 0\n",
    "    for row in range(num_rows):\n",
    "        for col in range(num_cols):\n",
    "            sum += a[row, col]\n",
    "\n",
    "def iter_row_by_row(a):\n",
    "    num_rows, num_cols = a.shape\n",
    "    sum = 0\n",
    "    for col in range(num_cols):\n",
    "        for row in range(num_rows):\n",
    "            sum += a[row, col]\n",
    "\n",
    "array_n = 300\n",
    "a = np.arange(array_n**2).reshape(array_n, array_n)\n",
    "\n",
    "n = 100\n",
    "time_function(\"Coluna por coluna:\", n, iter_col_by_col, (a,))\n",
    "time_function(\"Linha por linha  :\", n, iter_row_by_row, (a,))"
   ]
  },
  {
   "cell_type": "markdown",
   "id": "ecec527c",
   "metadata": {},
   "source": [
    "## Indexação, Fatiamento, Cópias e Visualizações (Indexing, Slicing, Copies and Views)\n",
    "\n",
    "Podemos indexar e fatiar um array de várias formas"
   ]
  },
  {
   "cell_type": "code",
   "execution_count": 125,
   "id": "f7f76806",
   "metadata": {},
   "outputs": [
    {
     "name": "stdout",
     "output_type": "stream",
     "text": [
      "a = [0 1 2 3 4 5 6 7 8 9]\n",
      "a[1] = 1\n",
      "a[[1, 3, 4]] = [1 3 4]\n",
      "a[a>2] = [3 4 5 6 7 8 9]\n",
      "a[:3] = [0 1 2]\n",
      "a[[[1, 2], [3, 2]]] = \n",
      " [[1 2]\n",
      " [3 2]]\n",
      "====================\n",
      "b =\n",
      " [[0 1 2]\n",
      " [3 4 5]\n",
      " [6 7 8]]\n",
      "b[1, 2] = 5\n",
      "b[[1, 2], [2, 1]] = [5 7]\n"
     ]
    }
   ],
   "source": [
    "a = np.arange(10)\n",
    "\n",
    "print(\"a =\", a)\n",
    "\n",
    "# Número inteiro\n",
    "print(\"a[1] =\", a[1])\n",
    "\n",
    "# Lista de inteiros\n",
    "print(\"a[[1, 3, 4]] =\", a[[1, 3, 4]])\n",
    "\n",
    "# Máscara\n",
    "print(\"a[a>2] =\", a[a>2])\n",
    "\n",
    "# Fatia\n",
    "print(\"a[:3] =\", a[:3])\n",
    "\n",
    "# Arrays com várias dimensões. Se `idx` for o array utilizando como\n",
    "# índice, o resultado `b = a[idx]` tem o mesmo shape de `idx` e b[i, j] = a[idx[i, j]] \n",
    "print(\"a[[[1, 2], [3, 2]]] = \\n\", a[[[1, 2], [3, 2]]])\n",
    "\n",
    "print(\"=\"*20)\n",
    "\n",
    "b = np.arange(3*3).reshape(3, 3)\n",
    "\n",
    "print(\"b =\\n\", b)\n",
    "\n",
    "# Indexação multidimensional\n",
    "print(\"b[1, 2] =\", b[1, 2])\n",
    "\n",
    "# Indexação multidimensional com arrays 1-D\n",
    "print(\"b[[1, 2], [2, 1]] =\", b[[1, 2], [2, 1]])"
   ]
  },
  {
   "cell_type": "markdown",
   "id": "e8e1b37b",
   "metadata": {},
   "source": [
    "É muito importante sabermos quando uma operação com arrays retorna uma cópia ou uma visualização"
   ]
  },
  {
   "cell_type": "code",
   "execution_count": 126,
   "id": "37c39759",
   "metadata": {},
   "outputs": [
    {
     "name": "stdout",
     "output_type": "stream",
     "text": [
      "Fatiamento\n",
      "a = [-1  1  2  3  4  5  6  7  8  9]\n",
      "b =  [-1  1  2]\n",
      "====================\n",
      "Reshape\n",
      "a = [ 0  1  2  3  4  5 -1  7  8  9]\n",
      "b =  [[ 0  1  2  3  4]\n",
      " [ 5 -1  7  8  9]]\n",
      "====================\n",
      "Indexação com arrays\n",
      "a = [0 1 2 3 4 5 6 7 8 9]\n",
      "b =  [-1  2  4]\n",
      "====================\n",
      "Forçando cópia\n",
      "a = [0 1 2 3 4 5 6 7 8 9]\n",
      "b =  [-1  1  2]\n"
     ]
    }
   ],
   "source": [
    "# Fatiamento retorna visualização\n",
    "print(\"Fatiamento\")\n",
    "a = np.arange(10)\n",
    "b = a[:3]\n",
    "b[0] = -1\n",
    "print(\"a =\", a)\n",
    "print(\"b = \", b)\n",
    "\n",
    "print(\"=\"*20)\n",
    "\n",
    "# Reshape retorna visualização\n",
    "print(\"Reshape\")\n",
    "a = np.arange(10)\n",
    "b = a.reshape(2, 5)\n",
    "b[1, 1] = -1\n",
    "print(\"a =\", a)\n",
    "print(\"b = \", b)\n",
    "\n",
    "print(\"=\"*20)\n",
    "\n",
    "# Indexação com arrays retorna cópia\n",
    "print(\"Indexação com arrays\")\n",
    "a = np.arange(10)\n",
    "b = a[[1, 2, 4]]\n",
    "b[0] = -1\n",
    "print(\"a =\", a)\n",
    "print(\"b = \", b)\n",
    "\n",
    "print(\"=\"*20)\n",
    "\n",
    "# Podemos forçar cópia com np.copy\n",
    "print(\"Forçando cópia\")\n",
    "a = np.arange(10)\n",
    "b = np.copy(a[:3])\n",
    "b[0] = -1\n",
    "print(\"a =\", a)\n",
    "print(\"b = \", b)"
   ]
  },
  {
   "cell_type": "markdown",
   "id": "5e8613b1",
   "metadata": {},
   "source": [
    "As visualizações podem ser utilizadas para mudar parte ou todo o array"
   ]
  },
  {
   "cell_type": "code",
   "execution_count": 127,
   "id": "872680ea",
   "metadata": {},
   "outputs": [
    {
     "name": "stdout",
     "output_type": "stream",
     "text": [
      "[0 1 2 3 4 5 6 7 8 9]\n",
      "[-1 -1 -1 -1 -1 -1 -1 -1 -1 -1]\n",
      "====================\n",
      "[0 1 2 3 4 5 6 7 8 9]\n",
      "[0 1 2 3 4 5 6 7 8 9]\n"
     ]
    }
   ],
   "source": [
    "def change_all_values_correct(a, b):\n",
    "    a[:] = b\n",
    "\n",
    "def change_all_values_wrong(a, b):\n",
    "    a = b\n",
    "\n",
    "a = np.arange(10)\n",
    "b = np.full_like(a, -1)\n",
    "\n",
    "print(a)\n",
    "change_all_values_correct(a, b)\n",
    "print(a)\n",
    "\n",
    "print(\"=\"*20)\n",
    "\n",
    "a = np.arange(10)\n",
    "\n",
    "print(a)\n",
    "change_all_values_wrong(a, b)\n",
    "print(a)\n"
   ]
  },
  {
   "cell_type": "markdown",
   "id": "ea71cc67",
   "metadata": {},
   "source": [
    "### Exercício 2:\n",
    "\n",
    "Uma cor pode ser representada por três números (o famoso formato RGB),\n",
    "então um array com `shape=(n, 3)` pode ser interpretado com uma paleta de n cores.  \n",
    "\n",
    "Dado uma paleta de cores, uma imagem pode ser representada por um array 2-D cujos elementos são índices da paleta de cores. Por exemplo\n",
    "\n",
    "``` python\n",
    "simple_palette = np.array([\n",
    "    [255, 0, 0], # Vermelho\n",
    "    [0, 255, 0], # Verde\n",
    "    [0, 0, 255], # Azul\n",
    "])\n",
    "\n",
    "# Exemplo de uma imagem 2 x 2\n",
    "tiny_image = np.array([\n",
    "    [0, 1],\n",
    "    [2, 0]\n",
    "])\n",
    "```\n",
    "\n",
    "O array `tiny_image` corresponde à seguinte imagem:\n",
    "\n",
    "![Exemplo de imagem 2x2](images/ex_2_aula_1.png)\n",
    "\n",
    "Agora, sua tarefa é construir o array que de fato contém os dados da imagem, por exemplo, no exemplo acima, o array a ser construído é\n",
    "``` python\n",
    "tiny_image_data =np.array([\n",
    "    [[255, 0, 0], [0, 255, 0]],\n",
    "    [[0, 0, 255], [255, 0, 0]]\n",
    "])\n",
    "```\n",
    "ou seja, o elemento de índice $(i, j)$ contém a cor da paleta cujo índice é `tiny_image[i, j]`\n"
   ]
  },
  {
   "cell_type": "code",
   "execution_count": 4,
   "id": "b20648ed",
   "metadata": {},
   "outputs": [
    {
     "data": {
      "text/plain": [
       "<matplotlib.image.AxesImage at 0x732a72346740>"
      ]
     },
     "execution_count": 4,
     "metadata": {},
     "output_type": "execute_result"
    },
    {
     "data": {
      "image/png": "[encoded data removed]",
      "text/plain": [
       "<Figure size 640x480 with 1 Axes>"
      ]
     },
     "metadata": {},
     "output_type": "display_data"
    }
   ],
   "source": [
    "palette = np.array([\n",
    "    [253, 253, 253],\n",
    "    [164, 164, 164],\n",
    "    [122, 122, 122],\n",
    "    [202, 202, 202],\n",
    "])\n",
    "\n",
    "image = np.array([\n",
    "    [0 ,0 ,0 ,0 ,0 ,0 ,0 ,0 ,2 ,2 ,0 ,2 ,2 ,0 ,2 ,2 ,2 ,0 ,0 ,2 ,0 ,0 ,0 ,0 ,0 ,0 ,0 ,0 ,0 ,0 ,0 ,0 ,0 ,0 ,0 ,0, 0, 0, 0, 0],\n",
    "    [0 ,0 ,0 ,0 ,0 ,0 ,0 ,0 ,0 ,2 ,0 ,0 ,2 ,0 ,2 ,0 ,2 ,0 ,2 ,2 ,0 ,0 ,0 ,0 ,0 ,0 ,0 ,0 ,0 ,0 ,0 ,0 ,0 ,0 ,0 ,0, 0, 0, 0, 0],\n",
    "    [0 ,0 ,0 ,0 ,0 ,0 ,0 ,0 ,2 ,2 ,0 ,2 ,2 ,0 ,2 ,0 ,2 ,0 ,0 ,2 ,0 ,0 ,0 ,0 ,0 ,0 ,0 ,0 ,0 ,0 ,0 ,0 ,0 ,0 ,0 ,0, 0, 0, 0, 0],\n",
    "    [0 ,0 ,0 ,0 ,0 ,0 ,0 ,0 ,0 ,2 ,0 ,0 ,2 ,0 ,2 ,0 ,2 ,0 ,0 ,2 ,0 ,0 ,0 ,0 ,0 ,0 ,0 ,0 ,0 ,0 ,0 ,0 ,0 ,0 ,0 ,0, 0, 0, 0, 0],\n",
    "    [0 ,0 ,0 ,0 ,0 ,0 ,0 ,0 ,2 ,2 ,0 ,2 ,2 ,0 ,2 ,2 ,2 ,0 ,0 ,2 ,0 ,0 ,0 ,0 ,0 ,0 ,0 ,0 ,0 ,0 ,0 ,0 ,0 ,0 ,0 ,0, 0, 0, 0, 0],\n",
    "    [0 ,0 ,0 ,0 ,0 ,0 ,0 ,0 ,0 ,0 ,0 ,0 ,0 ,0 ,0 ,0 ,0 ,0 ,0 ,0 ,0 ,0 ,0 ,0 ,0 ,0 ,0 ,0 ,0 ,0 ,0 ,0 ,0 ,0 ,0 ,0, 0, 0, 0, 0],\n",
    "    [0 ,0 ,0 ,2 ,1 ,1 ,1 ,1 ,1 ,1 ,2 ,0 ,0 ,0 ,0 ,0 ,0 ,0 ,0 ,2 ,1 ,0 ,0 ,0 ,0 ,0 ,0 ,0 ,0 ,0 ,2 ,2 ,1 ,1 ,1 ,1, 1, 2, 0, 0],\n",
    "    [0 ,1 ,1 ,1 ,2 ,2 ,1 ,2 ,2 ,2 ,3 ,3 ,3 ,1 ,0 ,0 ,0 ,0 ,3 ,3 ,1 ,3 ,1 ,0 ,0 ,0 ,2 ,1 ,1 ,3 ,1 ,1 ,2 ,1 ,2 ,3, 2, 3, 3, 0],\n",
    "    [2 ,1 ,1 ,1 ,2 ,2 ,2 ,2 ,1 ,1 ,1 ,1 ,3 ,3 ,3 ,3 ,2 ,0 ,3 ,1 ,2 ,1 ,0 ,2 ,1 ,1 ,1 ,1 ,1 ,2 ,1 ,1 ,1 ,2 ,0 ,3, 2, 3, 1, 0],\n",
    "    [0 ,1 ,1 ,1 ,1 ,2 ,3 ,2 ,1 ,1 ,1 ,3 ,1 ,1 ,3 ,3 ,3 ,3 ,3 ,3 ,1 ,1 ,3 ,3 ,1 ,3 ,1 ,1 ,1 ,3 ,1 ,1 ,1 ,2 ,1 ,3, 3, 1, 0, 0],\n",
    "    [0 ,0 ,0 ,1 ,1 ,3 ,1 ,2 ,3 ,1 ,1 ,3 ,3 ,1 ,1 ,2 ,2 ,3 ,2 ,1 ,0 ,1 ,1 ,2 ,1 ,1 ,3 ,3 ,3 ,3 ,3 ,1 ,2 ,1 ,3 ,1, 2, 0, 0, 0],\n",
    "    [0 ,0 ,0 ,0 ,1 ,1 ,1 ,1 ,1 ,2 ,1 ,1 ,1 ,2 ,0 ,0 ,0 ,3 ,1 ,3 ,1 ,1 ,2 ,2 ,2 ,2 ,2 ,1 ,3 ,1 ,1 ,2 ,3 ,1 ,1 ,0, 0, 0, 0, 0],\n",
    "    [0 ,0 ,0 ,0 ,0 ,2 ,1 ,2 ,0 ,1 ,3 ,1 ,2 ,0 ,0 ,0 ,0 ,3 ,1 ,2 ,2 ,2 ,0 ,0 ,0 ,0 ,0 ,2 ,3 ,1 ,3 ,1 ,2 ,2 ,0 ,0, 0, 0, 0, 0],\n",
    "    [0 ,0 ,0 ,0 ,0 ,0 ,0 ,0 ,3 ,1 ,1 ,3 ,2 ,0 ,0 ,0 ,0 ,3 ,1 ,2 ,2 ,2 ,2 ,0 ,0 ,0 ,0 ,1 ,1 ,2 ,3 ,3 ,0 ,0 ,0 ,0, 0, 0, 0, 0],\n",
    "    [0 ,0 ,0 ,0 ,0 ,0 ,0 ,0 ,3 ,1 ,3 ,2 ,0 ,0 ,0 ,0 ,0 ,1 ,2 ,1 ,2 ,2 ,0 ,0 ,0 ,0 ,0 ,1 ,2 ,1 ,3 ,1 ,0 ,0 ,0 ,0, 0, 0, 0, 0],\n",
    "    [0 ,0 ,0 ,0 ,0 ,0 ,0 ,0 ,2 ,3 ,1 ,1 ,1 ,2 ,0 ,0 ,0 ,1 ,2 ,2 ,0 ,2 ,2 ,2 ,0 ,0 ,0 ,3 ,1 ,3 ,1 ,0 ,0 ,0 ,0 ,0, 0, 0, 0, 0],\n",
    "    [0 ,0 ,0 ,0 ,0 ,0 ,0 ,0 ,0 ,0 ,1 ,2 ,2 ,2 ,2 ,0 ,0 ,2 ,3 ,2 ,0 ,0 ,2 ,2 ,0 ,0 ,1 ,1 ,1 ,0 ,0 ,0 ,0 ,0 ,0 ,0, 0, 0, 0, 0],\n",
    "    [0 ,0 ,0 ,0 ,0 ,0 ,0 ,0 ,0 ,0 ,0 ,0 ,0 ,0 ,0 ,0 ,0 ,0 ,3 ,2 ,2 ,0 ,0 ,0 ,0 ,0 ,0 ,0 ,0 ,0 ,0 ,0 ,0 ,0 ,0 ,0, 0, 0, 0, 0],\n",
    "    [0 ,0 ,0 ,0 ,0 ,0 ,0 ,0 ,0 ,0 ,0 ,0 ,0 ,0 ,0 ,0 ,0 ,0 ,1 ,1 ,0 ,0 ,0 ,0 ,0 ,0 ,0 ,0 ,0 ,0 ,0 ,0 ,0 ,0 ,0 ,0, 0, 0, 0, 0],\n",
    "    [0 ,0 ,0 ,0 ,0 ,0 ,0 ,0 ,0 ,0 ,0 ,0 ,0 ,0 ,0 ,0 ,0 ,0 ,0 ,3 ,0 ,0 ,0 ,0 ,0 ,0 ,0 ,0 ,0 ,0 ,0 ,0 ,0 ,0 ,0 ,0, 0, 0, 0, 0],\n",
    "    [0 ,0 ,0 ,0 ,0 ,0 ,0 ,0 ,0 ,0 ,0 ,0 ,0 ,0 ,0 ,0 ,0 ,0 ,0 ,2 ,0 ,0 ,0 ,0 ,0 ,0 ,0 ,0 ,0 ,0 ,0 ,0 ,0 ,0 ,0 ,0, 0, 0, 0, 0],\n",
    "    [0 ,0 ,0 ,0 ,0 ,0 ,0 ,0 ,0 ,0 ,0 ,0 ,0 ,0 ,0 ,0 ,0 ,0 ,0 ,0 ,0 ,0 ,0 ,0 ,0 ,0 ,0 ,0 ,0 ,0 ,0 ,0 ,0 ,0 ,0 ,0, 0, 0, 0, 0],\n",
    "    [0 ,0 ,0 ,0 ,0 ,0 ,0 ,0 ,0 ,0 ,0 ,0 ,0 ,0 ,0 ,0 ,0 ,0 ,0 ,0 ,0 ,0 ,0 ,0 ,0 ,0 ,0 ,0 ,0 ,0 ,0 ,0 ,0 ,0 ,0 ,0, 0, 0, 0, 0],\n",
    "    [0 ,0 ,0 ,0 ,0 ,0 ,0 ,0 ,0 ,0 ,0 ,0 ,0 ,0 ,0 ,0 ,0 ,0 ,0 ,0 ,0 ,0 ,0 ,0 ,0 ,0 ,0 ,0 ,0 ,0 ,0 ,0 ,0 ,0 ,0 ,0, 0, 0, 0, 0],\n",
    "])\n",
    "\n",
    "# Calcule image_data aqui\n",
    "image_data = [[[0,0,0]]]\n",
    "\n",
    "# Visualizando a imagem\n",
    "import matplotlib.pyplot as plt\n",
    "plt.axis(\"off\")\n",
    "plt.imshow(image_data)"
   ]
  },
  {
   "cell_type": "markdown",
   "id": "2480d609",
   "metadata": {},
   "source": [
    "<details>\n",
    "<summary>Solução: Clique para expandir</summary>\n",
    "\n",
    "```python\n",
    "image_data = palette[image]\n",
    "```\n",
    "</details>"
   ]
  },
  {
   "cell_type": "markdown",
   "id": "e2679226",
   "metadata": {},
   "source": [
    "## Exemplo: Mandelbrot Set\n",
    "\n",
    "Vamos gerar uma imagem do [conjunto de Mandelbrot](https://en.wikipedia.org/wiki/Mandelbrot_set): o conjunto definido pelos pontos $c \\in \\mathbb{C}$ tal que $f(z) = z^2 + c$ não diverge em um processo de iteração começando em $z = 0$\n",
    "\n",
    "Para a imagem ficar bem legal, vamos considerar que o processo divergiu se `abs(z) > max_norm` e colorir a imagem de acordo com o tempo que o ponto divergiu"
   ]
  },
  {
   "cell_type": "code",
   "execution_count": 46,
   "id": "d3c94f58",
   "metadata": {},
   "outputs": [
    {
     "data": {
      "text/plain": [
       "<matplotlib.image.AxesImage at 0x75d40bea8880>"
      ]
     },
     "execution_count": 46,
     "metadata": {},
     "output_type": "execute_result"
    },
    {
     "data": {
      "image/png": "[encoded data removed]",
      "text/plain": [
       "<Figure size 640x480 with 1 Axes>"
      ]
     },
     "metadata": {},
     "output_type": "display_data"
    }
   ],
   "source": [
    "import matplotlib.pyplot as plt\n",
    "\n",
    "def mandelbrot(image_shape, xlims, ylims, max_iter=20, max_norm=3):\n",
    "    xs, ys = np.meshgrid(\n",
    "        np.linspace(*xlims, image_shape[1]),\n",
    "        np.linspace(*ylims, image_shape[0]),\n",
    "    )\n",
    "    cs = xs + ys*1j\n",
    "    zs = np.zeros_like(cs)\n",
    "\n",
    "    diverge_time = np.full(image_shape, max_iter, dtype=int)\n",
    "\n",
    "    for i in range(max_iter):\n",
    "        zs = zs**2 + cs\n",
    "\n",
    "        has_diverge = abs(zs) > max_norm\n",
    "        has_diverge_now = has_diverge & (diverge_time == max_iter)\n",
    "        diverge_time[has_diverge_now] = i\n",
    "        zs[has_diverge] = max_norm \n",
    "\n",
    "    return diverge_time\n",
    "\n",
    "xlims = (-2.5, 1.5)\n",
    "ylims = (-1.5, 1.5)\n",
    "image_shape = (400, 400)\n",
    "\n",
    "plt.imshow(mandelbrot(image_shape, xlims, ylims), extent=xlims + ylims)"
   ]
  },
  {
   "cell_type": "markdown",
   "id": "ea0f47cc",
   "metadata": {},
   "source": [
    "## Sobre os indexadores especiais `...` e `None`"
   ]
  },
  {
   "cell_type": "markdown",
   "id": "b771f0f3",
   "metadata": {},
   "source": [
    "# Indexador `...`\n",
    "\n",
    "Um forma de representar as coordenadas dos vértices de uma grade retangular, no plano cartesiano, é através de um array com tamanho igual a `(nx, ny, 2)`, em que `nx` é o número de colunas da grade e `ny` o número de linhas, de tal forma que o elemento de índice `[i, j]` é a posição do vértice de índice `(i, j)` \n",
    "\n",
    "<img src=\"images/grid_pos.png\" alt=\"grade de pontos\" width=\"500\"/>\n"
   ]
  },
  {
   "cell_type": "code",
   "execution_count": 11,
   "id": "4daaf858",
   "metadata": {},
   "outputs": [
    {
     "name": "stdout",
     "output_type": "stream",
     "text": [
      "shape: (3, 3, 2)\n",
      "pos[1, 2]: [3 2]\n"
     ]
    },
    {
     "data": {
      "text/plain": [
       "array([[[1, 3],\n",
       "        [2, 3],\n",
       "        [3, 3]],\n",
       "\n",
       "       [[1, 2],\n",
       "        [2, 2],\n",
       "        [3, 2]],\n",
       "\n",
       "       [[1, 1],\n",
       "        [2, 1],\n",
       "        [3, 1]]])"
      ]
     },
     "execution_count": 11,
     "metadata": {},
     "output_type": "execute_result"
    }
   ],
   "source": [
    "pos = np.array([\n",
    "    [[1, 3], [2, 3], [3, 3]],\n",
    "    [[1, 2], [2, 2], [3, 2]],\n",
    "    [[1, 1], [2, 1], [3, 1]],\n",
    "])\n",
    "\n",
    "print(\"shape:\", pos.shape)\n",
    "print(\"pos[1, 2]:\", pos[1, 2])\n",
    "pos"
   ]
  },
  {
   "cell_type": "markdown",
   "id": "af3b01d4",
   "metadata": {},
   "source": [
    "é comum ser necessário extrair somente as coordenadas no eixo x dos pontos"
   ]
  },
  {
   "cell_type": "code",
   "execution_count": null,
   "id": "6a3d1a0e",
   "metadata": {},
   "outputs": [
    {
     "data": {
      "text/plain": [
       "array([[1, 2, 3],\n",
       "       [1, 2, 3],\n",
       "       [1, 2, 3]])"
      ]
     },
     "execution_count": 49,
     "metadata": {},
     "output_type": "execute_result"
    }
   ],
   "source": [
    "pos_x = pos[:, :, 0]\n",
    "pos_x"
   ]
  },
  {
   "cell_type": "markdown",
   "id": "4edc9ab0",
   "metadata": {},
   "source": [
    "neste caso, podemos utilizar o indexador `...`, que expande para quantos `:` forem necessários para tornar a indexação válida"
   ]
  },
  {
   "cell_type": "code",
   "execution_count": null,
   "id": "43545f11",
   "metadata": {},
   "outputs": [
    {
     "data": {
      "text/plain": [
       "np.True_"
      ]
     },
     "execution_count": 50,
     "metadata": {},
     "output_type": "execute_result"
    }
   ],
   "source": [
    "pos_x_2 = pos[..., 0]\n",
    "(pos_x_2 == pos_x).all()"
   ]
  },
  {
   "cell_type": "markdown",
   "id": "c73a35ce",
   "metadata": {},
   "source": [
    "**OBS**: A geração do array `pos` pode ser facilitada com o `np.meshgrid`"
   ]
  },
  {
   "cell_type": "code",
   "execution_count": 14,
   "id": "92d1c9ae",
   "metadata": {},
   "outputs": [
    {
     "data": {
      "text/plain": [
       "(array([[1, 2, 3],\n",
       "        [1, 2, 3],\n",
       "        [1, 2, 3]]),\n",
       " array([[1, 1, 1],\n",
       "        [2, 2, 2],\n",
       "        [3, 3, 3]]))"
      ]
     },
     "execution_count": 14,
     "metadata": {},
     "output_type": "execute_result"
    }
   ],
   "source": [
    "pos_grid = np.meshgrid(\n",
    "    [1, 2, 3], # Coordenadas das colunas da grade\n",
    "    [1, 2, 3], # Coordenadas das linhas da grade\n",
    ")\n",
    "\n",
    "pos_grid"
   ]
  },
  {
   "cell_type": "markdown",
   "id": "05b5bc9b",
   "metadata": {},
   "source": [
    "o retorno do `np.meshgrid` são dois arrays, um com as coordenadas no eixo x e outro no eixo y. Para gerar o array com shape `(nx, ny, 2)`, basta usar o `np.stack`"
   ]
  },
  {
   "cell_type": "code",
   "execution_count": 54,
   "id": "5c53a595",
   "metadata": {},
   "outputs": [
    {
     "name": "stdout",
     "output_type": "stream",
     "text": [
      "(3, 3, 2)\n"
     ]
    },
    {
     "data": {
      "text/plain": [
       "array([[[1, 1],\n",
       "        [2, 1],\n",
       "        [3, 1]],\n",
       "\n",
       "       [[1, 2],\n",
       "        [2, 2],\n",
       "        [3, 2]],\n",
       "\n",
       "       [[1, 3],\n",
       "        [2, 3],\n",
       "        [3, 3]]])"
      ]
     },
     "execution_count": 54,
     "metadata": {},
     "output_type": "execute_result"
    }
   ],
   "source": [
    "pos = np.stack(pos_grid, axis=-1)\n",
    "print(pos.shape)\n",
    "pos"
   ]
  },
  {
   "cell_type": "markdown",
   "id": "0a1eae08",
   "metadata": {},
   "source": [
    "### Indexador `None`\n",
    "\n",
    "O indexador `None` (ou `np.newaxis`) é usado para adicionar uma nova dimensão ao array. Por exemplo, podemos transformar um vetor 1D em um vetor coluna ou linha:"
   ]
  },
  {
   "cell_type": "code",
   "execution_count": 57,
   "id": "24c3baf7",
   "metadata": {},
   "outputs": [
    {
     "name": "stdout",
     "output_type": "stream",
     "text": [
      "a.shape: (10,)\n",
      "a_col.shape: (10, 1)\n",
      "a_row.shape: (1, 10)\n"
     ]
    }
   ],
   "source": [
    "a = np.arange(10)\n",
    "print(\"a.shape:\", a.shape)\n",
    "\n",
    "a_col = a[:, None]\n",
    "print(\"a_col.shape:\", a_col.shape)\n",
    "\n",
    "a_row = a[None, :]\n",
    "print(\"a_row.shape:\", a_row.shape)"
   ]
  },
  {
   "cell_type": "markdown",
   "id": "6ed3a08d",
   "metadata": {},
   "source": [
    "Isso é útil para operações de broadcasting e para preparar arrays para operações matriciais."
   ]
  },
  {
   "cell_type": "markdown",
   "id": "8af45e2b",
   "metadata": {},
   "source": [
    "## Exercício 3\n",
    "\n",
    "Crie as posições dos vértices de uma grade de 3 linhas e 4 colunas (tal que o ponto no canto esquerdo inferior seja $(0, 0)$ e o ponto no canto direito superior seja $(3, 2)$), então desloque cada coluna da grade por um escalar, para ser mais exato, desloque as colunas pelos seguintes valores\n",
    "\n",
    "| Coluna | Deslocamento |\n",
    "|--------|-------------|\n",
    "|   0    |    0.2      |\n",
    "|   1    |   -0.2      |\n",
    "|   2    |    0.3      |\n",
    "|   3    |   -0.1      |\n",
    "\n",
    "você deve obter a seguinte imagem\n",
    "\n",
    "![ex_3_pontos](images/ex_3_aula_1.png)\n",
    "\n",
    "onde os pontos azuis representam a grade original e os laranjas a grade deslocada."
   ]
  },
  {
   "cell_type": "code",
   "execution_count": 62,
   "id": "6f064b7a",
   "metadata": {},
   "outputs": [],
   "source": [
    "import matplotlib.pyplot as plt\n",
    "\n",
    "def show_points(points_1, points_2):\n",
    "    \"\"\"\n",
    "    Função para visualizar os pontos. \n",
    "    \n",
    "    Desenha flechas que partem de `points_1` e vão até `points_2`.\n",
    "    Ambos os pontos devem ser arrays com shape (nx, ny, 2).\n",
    "    \"\"\"\n",
    "    # Linhas da grade\n",
    "    for y in points_1[:, 0, 1]:\n",
    "        plt.axhline(y, linestyle=\"--\", c=\"gray\", zorder=-1)\n",
    "\n",
    "    # Colunas da grade\n",
    "    for x in points_1[0, :, 0]:\n",
    "        plt.axvline(x, linestyle=\"--\", c=\"gray\", zorder=-1)\n",
    "    \n",
    "    # Flechas\n",
    "    for i in range(points_1.shape[0]):\n",
    "        for j in range(points_1.shape[1]):\n",
    "            plt.arrow(\n",
    "                points_1[i, j, 0], points_1[i, j, 1],\n",
    "                points_2[i, j, 0] - points_1[i, j, 0],\n",
    "                points_2[i, j, 1] - points_1[i, j, 1],\n",
    "                head_width=0.05, head_length=0.08, length_includes_head=True, color='black'\n",
    "            )\n",
    "\n",
    "    # Pontos\n",
    "    plt.scatter(points_1[..., 0], points_1[..., 1])\n",
    "    plt.scatter(points_2[..., 0], points_2[..., 1])"
   ]
  },
  {
   "cell_type": "code",
   "execution_count": 1,
   "id": "abdf8908",
   "metadata": {},
   "outputs": [],
   "source": [
    "# Mão na massa"
   ]
  },
  {
   "cell_type": "markdown",
   "id": "1c08381a",
   "metadata": {},
   "source": [
    "<details>\n",
    "<summary>Solução: Clique para expandir</summary>\n",
    "\n",
    "```python\n",
    "mesh = np.meshgrid(\n",
    "    [0, 1, 2, 3],\n",
    "    [0, 1, 2],\n",
    ")\n",
    "points_1 = np.stack(mesh, axis=-1)\n",
    "\n",
    "values = np.array([0.2, -0.2, 0.3, -0.1])\n",
    "\n",
    "points_2 = points_1 + values[None, :, None]\n",
    "```\n",
    "</details>\n"
   ]
  }
 ],
 "metadata": {
  "kernelspec": {
   "display_name": "venv",
   "language": "python",
   "name": "python3"
  },
  "language_info": {
   "codemirror_mode": {
    "name": "ipython",
    "version": 3
   },
   "file_extension": ".py",
   "mimetype": "text/x-python",
   "name": "python",
   "nbconvert_exporter": "python",
   "pygments_lexer": "ipython3",
   "version": "3.10.12"
  }
 },
 "nbformat": 4,
 "nbformat_minor": 5
}
