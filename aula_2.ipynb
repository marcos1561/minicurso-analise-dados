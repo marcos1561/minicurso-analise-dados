{
 "cells": [
  {
   "cell_type": "markdown",
   "id": "1cd00912",
   "metadata": {},
   "source": [
    "# Aula 2: Pandas"
   ]
  },
  {
   "cell_type": "markdown",
   "id": "2ac222eb",
   "metadata": {
    "vscode": {
     "languageId": "plaintext"
    }
   },
   "source": [
    "- Pandas é um pacote Python que fornece estruturas de dados rápidas, flexíveis e expressivas, projetado para tornar o trabalho com dados \"relacionais\" ou \"rotulados\" fácil e intuitivo.\n",
    "\n",
    "- Pandas funciona bem com os seguintes tipos de dados:\n",
    "    - Dados tabulares com colunas de tipos heterogêneos\n",
    "    - Dados de séries temporais ordenados e não ordenados\n",
    "    - Dados de matriz arbitrários (tipificados homogeneamente ou heterogêneos) com rótulos de linha e coluna\n",
    "\n",
    "- Instalação\n",
    "    ```bash\n",
    "    pip install pandas\n",
    "    ```\n",
    "\n",
    "- Documentação oficial: https://pandas.pydata.org/docs/"
   ]
  },
  {
   "cell_type": "code",
   "execution_count": 9,
   "id": "39eca574",
   "metadata": {},
   "outputs": [],
   "source": [
    "# Convenção de como importar o pandas\n",
    "import pandas as pd\n",
    "\n",
    "# Vamos também utilizar o numpy\n",
    "import numpy as np"
   ]
  },
  {
   "cell_type": "markdown",
   "id": "072b62c0",
   "metadata": {},
   "source": [
    "## Estruturas de dados fundamentais\n",
    "\n",
    "O Pandas possui duas estruturas de dados principais\n",
    "\n",
    "- `Series`: Array 1-D etiquetado com elementos de tipos arbitrários.\n",
    "\n",
    "- `DataFrame`: Semelhando a um array 2-D ou uma tabela com linhas e colunas. Atua como um container de `Series`."
   ]
  },
  {
   "cell_type": "markdown",
   "id": "4027288e",
   "metadata": {},
   "source": [
    "### `Series`\n",
    "\n",
    "Podemos construir `Series` de algumas formas:"
   ]
  },
  {
   "cell_type": "code",
   "execution_count": 10,
   "id": "e98754dd",
   "metadata": {},
   "outputs": [
    {
     "name": "stdout",
     "output_type": "stream",
     "text": [
      "0    1.0\n",
      "1    2.0\n",
      "2    3.0\n",
      "3    NaN\n",
      "4    5.0\n",
      "dtype: float64\n",
      "===\n",
      "a    1.0\n",
      "b    2.0\n",
      "c    3.0\n",
      "d    NaN\n",
      "e    5.0\n",
      "dtype: float64\n"
     ]
    }
   ],
   "source": [
    "# Criando um `Series` sem explicitamente dando as etiquetas (o padrão é um `range`)\n",
    "s = pd.Series([1, 2, 3, np.nan, 5])\n",
    "print(s)\n",
    "\n",
    "print(\"===\")\n",
    "\n",
    "# Exemplo usando etiquetas\n",
    "s = pd.Series([1, 2, 3, np.nan, 5], index=[\"a\", \"b\", \"c\", \"d\", \"e\"])\n",
    "print(s)"
   ]
  },
  {
   "cell_type": "markdown",
   "id": "5c0ea932",
   "metadata": {},
   "source": [
    "`Series` se comporta como um `np.ndarray` e como um dicionária"
   ]
  },
  {
   "cell_type": "code",
   "execution_count": 11,
   "id": "843e160d",
   "metadata": {},
   "outputs": [
    {
     "name": "stdout",
     "output_type": "stream",
     "text": [
      "a    0\n",
      "b    1\n",
      "c    2\n",
      "d    3\n",
      "e    4\n",
      "dtype: int64\n",
      "======\n",
      "a    0\n",
      "b    2\n",
      "c    4\n",
      "d    6\n",
      "e    8\n",
      "dtype: int64\n",
      "\n",
      "a     1.000000\n",
      "b     2.718282\n",
      "c     7.389056\n",
      "d    20.085537\n",
      "e    54.598150\n",
      "dtype: float64\n",
      "======\n",
      "True\n",
      "1\n",
      "-1\n"
     ]
    }
   ],
   "source": [
    "s = pd.Series(np.arange(5), index=list(\"abcde\"))\n",
    "\n",
    "print(s)\n",
    "\n",
    "print(\"======\")\n",
    "\n",
    "# Operações suportadas por um np.ndarray\n",
    "print(s * 2)\n",
    "print()\n",
    "print(np.exp(s))\n",
    "\n",
    "print(\"======\")\n",
    "\n",
    "# Operações suportadas por um dicionário\n",
    "print(\"b\" in s)\n",
    "print(s[\"b\"])\n",
    "print(s.get(\"g\", -1))"
   ]
  },
  {
   "cell_type": "markdown",
   "id": "f2c0cb42",
   "metadata": {},
   "source": [
    "A principal vantagem de um `Series` é que operações vetorizadas entre `Series` automaticamente alinham suas etiquetas "
   ]
  },
  {
   "cell_type": "code",
   "execution_count": 12,
   "id": "1e3076b8",
   "metadata": {},
   "outputs": [
    {
     "data": {
      "text/plain": [
       "a    1\n",
       "b    2\n",
       "c    3\n",
       "d    4\n",
       "dtype: int64"
      ]
     },
     "metadata": {},
     "output_type": "display_data"
    },
    {
     "data": {
      "text/plain": [
       "b    5\n",
       "c    6\n",
       "d    7\n",
       "e    8\n",
       "dtype: int64"
      ]
     },
     "metadata": {},
     "output_type": "display_data"
    },
    {
     "data": {
      "text/plain": [
       "a     NaN\n",
       "b     7.0\n",
       "c     9.0\n",
       "d    11.0\n",
       "e     NaN\n",
       "dtype: float64"
      ]
     },
     "metadata": {},
     "output_type": "display_data"
    }
   ],
   "source": [
    "s1 = pd.Series([1, 2, 3, 4], index=list(\"abcd\"))\n",
    "s2 = pd.Series([5, 6, 7, 8], index=list(\"bcde\"))\n",
    "\n",
    "s3 = s1 + s2\n",
    "display(s1, s2, s3)"
   ]
  },
  {
   "cell_type": "markdown",
   "id": "d6d790a0",
   "metadata": {},
   "source": [
    "### `DataFrame`"
   ]
  },
  {
   "cell_type": "markdown",
   "id": "24310501",
   "metadata": {},
   "source": [
    "Criando um `DataFrame` passando os dados tabelados e as etiquetas das colunas e das linhas"
   ]
  },
  {
   "cell_type": "code",
   "execution_count": 13,
   "id": "cbdc6534",
   "metadata": {},
   "outputs": [
    {
     "data": {
      "text/html": [
       "<div>\n",
       "<style scoped>\n",
       "    .dataframe tbody tr th:only-of-type {\n",
       "        vertical-align: middle;\n",
       "    }\n",
       "\n",
       "    .dataframe tbody tr th {\n",
       "        vertical-align: top;\n",
       "    }\n",
       "\n",
       "    .dataframe thead th {\n",
       "        text-align: right;\n",
       "    }\n",
       "</style>\n",
       "<table border=\"1\" class=\"dataframe\">\n",
       "  <thead>\n",
       "    <tr style=\"text-align: right;\">\n",
       "      <th></th>\n",
       "      <th>a</th>\n",
       "      <th>b</th>\n",
       "      <th>c</th>\n",
       "      <th>d</th>\n",
       "    </tr>\n",
       "  </thead>\n",
       "  <tbody>\n",
       "    <tr>\n",
       "      <th>2025-08-01</th>\n",
       "      <td>0</td>\n",
       "      <td>1</td>\n",
       "      <td>2</td>\n",
       "      <td>3</td>\n",
       "    </tr>\n",
       "    <tr>\n",
       "      <th>2025-08-02</th>\n",
       "      <td>4</td>\n",
       "      <td>5</td>\n",
       "      <td>6</td>\n",
       "      <td>7</td>\n",
       "    </tr>\n",
       "    <tr>\n",
       "      <th>2025-08-03</th>\n",
       "      <td>8</td>\n",
       "      <td>9</td>\n",
       "      <td>10</td>\n",
       "      <td>11</td>\n",
       "    </tr>\n",
       "  </tbody>\n",
       "</table>\n",
       "</div>"
      ],
      "text/plain": [
       "            a  b   c   d\n",
       "2025-08-01  0  1   2   3\n",
       "2025-08-02  4  5   6   7\n",
       "2025-08-03  8  9  10  11"
      ]
     },
     "execution_count": 13,
     "metadata": {},
     "output_type": "execute_result"
    }
   ],
   "source": [
    "df = pd.DataFrame(\n",
    "    np.arange(3*4).reshape(3, 4),\n",
    "    index=pd.date_range(\"2025-08-01\", periods=3),\n",
    "    columns=list(\"abcd\"),\n",
    ")\n",
    "df"
   ]
  },
  {
   "cell_type": "markdown",
   "id": "b7a28aed",
   "metadata": {},
   "source": [
    "Criando um `DataFrame` com um dicionário"
   ]
  },
  {
   "cell_type": "code",
   "execution_count": 14,
   "id": "c71e72b9",
   "metadata": {},
   "outputs": [
    {
     "data": {
      "text/html": [
       "<div>\n",
       "<style scoped>\n",
       "    .dataframe tbody tr th:only-of-type {\n",
       "        vertical-align: middle;\n",
       "    }\n",
       "\n",
       "    .dataframe tbody tr th {\n",
       "        vertical-align: top;\n",
       "    }\n",
       "\n",
       "    .dataframe thead th {\n",
       "        text-align: right;\n",
       "    }\n",
       "</style>\n",
       "<table border=\"1\" class=\"dataframe\">\n",
       "  <thead>\n",
       "    <tr style=\"text-align: right;\">\n",
       "      <th></th>\n",
       "      <th>A</th>\n",
       "      <th>B</th>\n",
       "      <th>C</th>\n",
       "    </tr>\n",
       "  </thead>\n",
       "  <tbody>\n",
       "    <tr>\n",
       "      <th>0</th>\n",
       "      <td>1.0</td>\n",
       "      <td>0</td>\n",
       "      <td>catA</td>\n",
       "    </tr>\n",
       "    <tr>\n",
       "      <th>1</th>\n",
       "      <td>1.0</td>\n",
       "      <td>1</td>\n",
       "      <td>catB</td>\n",
       "    </tr>\n",
       "    <tr>\n",
       "      <th>2</th>\n",
       "      <td>1.0</td>\n",
       "      <td>2</td>\n",
       "      <td>catC</td>\n",
       "    </tr>\n",
       "    <tr>\n",
       "      <th>3</th>\n",
       "      <td>1.0</td>\n",
       "      <td>3</td>\n",
       "      <td>catD</td>\n",
       "    </tr>\n",
       "  </tbody>\n",
       "</table>\n",
       "</div>"
      ],
      "text/plain": [
       "     A  B     C\n",
       "0  1.0  0  catA\n",
       "1  1.0  1  catB\n",
       "2  1.0  2  catC\n",
       "3  1.0  3  catD"
      ]
     },
     "metadata": {},
     "output_type": "display_data"
    },
    {
     "data": {
      "text/plain": [
       "A     float64\n",
       "B       int64\n",
       "C    category\n",
       "dtype: object"
      ]
     },
     "execution_count": 14,
     "metadata": {},
     "output_type": "execute_result"
    }
   ],
   "source": [
    "df = pd.DataFrame(\n",
    "    {\n",
    "        \"A\": 1.0, \n",
    "        \"B\": np.arange(4), \n",
    "        \"C\": pd.Categorical([\"catA\", \"catB\", \"catC\", \"catD\"]),\n",
    "    }\n",
    ")\n",
    "display(df)\n",
    "\n",
    "# Repare que as colunas podem possuir tipos diferentes\n",
    "df.dtypes"
   ]
  },
  {
   "cell_type": "markdown",
   "id": "99cabb18",
   "metadata": {},
   "source": [
    "## Indexação\n",
    "\n",
    "A indexação de um `DataFrame` pode ser feita utilizando as etiquetas das linhas e colunas, ou pela localização numérica das mesmas"
   ]
  },
  {
   "cell_type": "code",
   "execution_count": 15,
   "id": "5d200e69",
   "metadata": {},
   "outputs": [
    {
     "data": {
      "text/html": [
       "<div>\n",
       "<style scoped>\n",
       "    .dataframe tbody tr th:only-of-type {\n",
       "        vertical-align: middle;\n",
       "    }\n",
       "\n",
       "    .dataframe tbody tr th {\n",
       "        vertical-align: top;\n",
       "    }\n",
       "\n",
       "    .dataframe thead th {\n",
       "        text-align: right;\n",
       "    }\n",
       "</style>\n",
       "<table border=\"1\" class=\"dataframe\">\n",
       "  <thead>\n",
       "    <tr style=\"text-align: right;\">\n",
       "      <th></th>\n",
       "      <th>a</th>\n",
       "      <th>b</th>\n",
       "      <th>c</th>\n",
       "      <th>d</th>\n",
       "    </tr>\n",
       "  </thead>\n",
       "  <tbody>\n",
       "    <tr>\n",
       "      <th>2025-08-01</th>\n",
       "      <td>0</td>\n",
       "      <td>1</td>\n",
       "      <td>2</td>\n",
       "      <td>3</td>\n",
       "    </tr>\n",
       "    <tr>\n",
       "      <th>2025-08-02</th>\n",
       "      <td>4</td>\n",
       "      <td>5</td>\n",
       "      <td>6</td>\n",
       "      <td>7</td>\n",
       "    </tr>\n",
       "    <tr>\n",
       "      <th>2025-08-03</th>\n",
       "      <td>8</td>\n",
       "      <td>9</td>\n",
       "      <td>10</td>\n",
       "      <td>11</td>\n",
       "    </tr>\n",
       "  </tbody>\n",
       "</table>\n",
       "</div>"
      ],
      "text/plain": [
       "            a  b   c   d\n",
       "2025-08-01  0  1   2   3\n",
       "2025-08-02  4  5   6   7\n",
       "2025-08-03  8  9  10  11"
      ]
     },
     "execution_count": 15,
     "metadata": {},
     "output_type": "execute_result"
    }
   ],
   "source": [
    "df = pd.DataFrame(\n",
    "    np.arange(3*4).reshape(3, 4),\n",
    "    index=pd.date_range(\"2025-08-01\", periods=3),\n",
    "    columns=list(\"abcd\"),\n",
    ")\n",
    "dates = df.index\n",
    "\n",
    "df"
   ]
  },
  {
   "cell_type": "markdown",
   "id": "b523cf48",
   "metadata": {},
   "source": [
    "Selecionando uma coluna (Repare que o resultado é um `Series`)"
   ]
  },
  {
   "cell_type": "code",
   "execution_count": 16,
   "id": "f97fb433",
   "metadata": {},
   "outputs": [
    {
     "name": "stdout",
     "output_type": "stream",
     "text": [
      "2025-08-01    1\n",
      "2025-08-02    5\n",
      "2025-08-03    9\n",
      "Freq: D, Name: b, dtype: int64\n",
      "===\n",
      "<class 'pandas.core.series.Series'>\n"
     ]
    }
   ],
   "source": [
    "print(df[\"b\"])\n",
    "print(\"===\")\n",
    "print(type(df[\"b\"]))"
   ]
  },
  {
   "cell_type": "markdown",
   "id": "4bb11a5c",
   "metadata": {},
   "source": [
    "Selecionando uma linha"
   ]
  },
  {
   "cell_type": "code",
   "execution_count": 17,
   "id": "0f5067bf",
   "metadata": {},
   "outputs": [
    {
     "data": {
      "text/plain": [
       "a    4\n",
       "b    5\n",
       "c    6\n",
       "d    7\n",
       "Name: 2025-08-02 00:00:00, dtype: int64"
      ]
     },
     "execution_count": 17,
     "metadata": {},
     "output_type": "execute_result"
    }
   ],
   "source": [
    "df.loc[dates[1]]"
   ]
  },
  {
   "cell_type": "markdown",
   "id": "679d79e1",
   "metadata": {},
   "source": [
    "Podemos utilizar fatiamento e indices mais complicados. O exemplo a seguir seleciona todas\n",
    "as linhas das colunas \"a\" e \"b\""
   ]
  },
  {
   "cell_type": "code",
   "execution_count": 18,
   "id": "af430ada",
   "metadata": {},
   "outputs": [
    {
     "data": {
      "text/html": [
       "<div>\n",
       "<style scoped>\n",
       "    .dataframe tbody tr th:only-of-type {\n",
       "        vertical-align: middle;\n",
       "    }\n",
       "\n",
       "    .dataframe tbody tr th {\n",
       "        vertical-align: top;\n",
       "    }\n",
       "\n",
       "    .dataframe thead th {\n",
       "        text-align: right;\n",
       "    }\n",
       "</style>\n",
       "<table border=\"1\" class=\"dataframe\">\n",
       "  <thead>\n",
       "    <tr style=\"text-align: right;\">\n",
       "      <th></th>\n",
       "      <th>a</th>\n",
       "      <th>b</th>\n",
       "    </tr>\n",
       "  </thead>\n",
       "  <tbody>\n",
       "    <tr>\n",
       "      <th>2025-08-01</th>\n",
       "      <td>0</td>\n",
       "      <td>1</td>\n",
       "    </tr>\n",
       "    <tr>\n",
       "      <th>2025-08-02</th>\n",
       "      <td>4</td>\n",
       "      <td>5</td>\n",
       "    </tr>\n",
       "    <tr>\n",
       "      <th>2025-08-03</th>\n",
       "      <td>8</td>\n",
       "      <td>9</td>\n",
       "    </tr>\n",
       "  </tbody>\n",
       "</table>\n",
       "</div>"
      ],
      "text/plain": [
       "            a  b\n",
       "2025-08-01  0  1\n",
       "2025-08-02  4  5\n",
       "2025-08-03  8  9"
      ]
     },
     "execution_count": 18,
     "metadata": {},
     "output_type": "execute_result"
    }
   ],
   "source": [
    "df.loc[:, [\"a\", \"b\"]]"
   ]
  },
  {
   "cell_type": "markdown",
   "id": "5ec3db3d",
   "metadata": {},
   "source": [
    "Selecionando a primeira linha "
   ]
  },
  {
   "cell_type": "code",
   "execution_count": 19,
   "id": "a0ac2ace",
   "metadata": {},
   "outputs": [
    {
     "data": {
      "text/plain": [
       "a    0\n",
       "b    1\n",
       "c    2\n",
       "d    3\n",
       "Name: 2025-08-01 00:00:00, dtype: int64"
      ]
     },
     "execution_count": 19,
     "metadata": {},
     "output_type": "execute_result"
    }
   ],
   "source": [
    "df.iloc[0]"
   ]
  },
  {
   "cell_type": "markdown",
   "id": "7f43f30a",
   "metadata": {},
   "source": [
    "Seleciona um único elemento"
   ]
  },
  {
   "cell_type": "code",
   "execution_count": 20,
   "id": "271825c3",
   "metadata": {},
   "outputs": [
    {
     "name": "stdout",
     "output_type": "stream",
     "text": [
      "9\n",
      "9\n"
     ]
    }
   ],
   "source": [
    "print(df.at[dates[2], \"b\"])\n",
    "\n",
    "# ou utilizando a posição\n",
    "print(df.iat[2, 1])"
   ]
  },
  {
   "cell_type": "markdown",
   "id": "51f42ae7",
   "metadata": {},
   "source": [
    "> OBS: Para acessar um elemento `df.loc[dates[2], \"b\"]` também funciona, mas o método `.at` é mais otimizado. O mesmo vale para fatiamento de linhas, `df[:2]` seleciona as duas primeira linhas, mas utilizar `.iloc` é mais rápido `df.iloc[:2]`. Em geral, prefira os métodos `.at`, `.iat`, `.loc` e `.iloc` para código mais otimizado."
   ]
  },
  {
   "cell_type": "markdown",
   "id": "1b413a37",
   "metadata": {},
   "source": [
    "Índices booleanos também funcionam. O exemplo a seguir seleciona todas as linhas em que a coluna \"c\" é maior do que 3"
   ]
  },
  {
   "cell_type": "code",
   "execution_count": 21,
   "id": "6fb9646a",
   "metadata": {},
   "outputs": [
    {
     "data": {
      "text/html": [
       "<div>\n",
       "<style scoped>\n",
       "    .dataframe tbody tr th:only-of-type {\n",
       "        vertical-align: middle;\n",
       "    }\n",
       "\n",
       "    .dataframe tbody tr th {\n",
       "        vertical-align: top;\n",
       "    }\n",
       "\n",
       "    .dataframe thead th {\n",
       "        text-align: right;\n",
       "    }\n",
       "</style>\n",
       "<table border=\"1\" class=\"dataframe\">\n",
       "  <thead>\n",
       "    <tr style=\"text-align: right;\">\n",
       "      <th></th>\n",
       "      <th>a</th>\n",
       "      <th>b</th>\n",
       "      <th>c</th>\n",
       "      <th>d</th>\n",
       "    </tr>\n",
       "  </thead>\n",
       "  <tbody>\n",
       "    <tr>\n",
       "      <th>2025-08-02</th>\n",
       "      <td>4</td>\n",
       "      <td>5</td>\n",
       "      <td>6</td>\n",
       "      <td>7</td>\n",
       "    </tr>\n",
       "    <tr>\n",
       "      <th>2025-08-03</th>\n",
       "      <td>8</td>\n",
       "      <td>9</td>\n",
       "      <td>10</td>\n",
       "      <td>11</td>\n",
       "    </tr>\n",
       "  </tbody>\n",
       "</table>\n",
       "</div>"
      ],
      "text/plain": [
       "            a  b   c   d\n",
       "2025-08-02  4  5   6   7\n",
       "2025-08-03  8  9  10  11"
      ]
     },
     "execution_count": 21,
     "metadata": {},
     "output_type": "execute_result"
    }
   ],
   "source": [
    "df[df[\"c\"] > 3]"
   ]
  },
  {
   "cell_type": "markdown",
   "id": "5ce056ef",
   "metadata": {},
   "source": [
    "É possível adicionar novas colunas em um `DataFrame` existente"
   ]
  },
  {
   "cell_type": "code",
   "execution_count": 22,
   "id": "f783cf7d",
   "metadata": {},
   "outputs": [
    {
     "data": {
      "text/html": [
       "<div>\n",
       "<style scoped>\n",
       "    .dataframe tbody tr th:only-of-type {\n",
       "        vertical-align: middle;\n",
       "    }\n",
       "\n",
       "    .dataframe tbody tr th {\n",
       "        vertical-align: top;\n",
       "    }\n",
       "\n",
       "    .dataframe thead th {\n",
       "        text-align: right;\n",
       "    }\n",
       "</style>\n",
       "<table border=\"1\" class=\"dataframe\">\n",
       "  <thead>\n",
       "    <tr style=\"text-align: right;\">\n",
       "      <th></th>\n",
       "      <th>a</th>\n",
       "      <th>b</th>\n",
       "      <th>c</th>\n",
       "      <th>d</th>\n",
       "      <th>e</th>\n",
       "    </tr>\n",
       "  </thead>\n",
       "  <tbody>\n",
       "    <tr>\n",
       "      <th>2025-08-01</th>\n",
       "      <td>0</td>\n",
       "      <td>1</td>\n",
       "      <td>2</td>\n",
       "      <td>3</td>\n",
       "      <td>0</td>\n",
       "    </tr>\n",
       "    <tr>\n",
       "      <th>2025-08-02</th>\n",
       "      <td>4</td>\n",
       "      <td>5</td>\n",
       "      <td>6</td>\n",
       "      <td>7</td>\n",
       "      <td>8</td>\n",
       "    </tr>\n",
       "    <tr>\n",
       "      <th>2025-08-03</th>\n",
       "      <td>8</td>\n",
       "      <td>9</td>\n",
       "      <td>10</td>\n",
       "      <td>11</td>\n",
       "      <td>16</td>\n",
       "    </tr>\n",
       "  </tbody>\n",
       "</table>\n",
       "</div>"
      ],
      "text/plain": [
       "            a  b   c   d   e\n",
       "2025-08-01  0  1   2   3   0\n",
       "2025-08-02  4  5   6   7   8\n",
       "2025-08-03  8  9  10  11  16"
      ]
     },
     "execution_count": 22,
     "metadata": {},
     "output_type": "execute_result"
    }
   ],
   "source": [
    "df = pd.DataFrame(\n",
    "    np.arange(3*4).reshape(3, 4),\n",
    "    index=pd.date_range(\"2025-08-01\", periods=3),\n",
    "    columns=list(\"abcd\"),\n",
    ")\n",
    "\n",
    "df[\"e\"] = df[\"a\"] * 2\n",
    "\n",
    "df"
   ]
  },
  {
   "cell_type": "markdown",
   "id": "97cd5efa",
   "metadata": {},
   "source": [
    "## Trabalhando com dados faltantes\n",
    "\n",
    "É muito comum termos dados com algumas entradas faltantes. Primeiro vamos ver como o `Numpy` lida com esses casos. "
   ]
  },
  {
   "cell_type": "markdown",
   "id": "82a094fb",
   "metadata": {},
   "source": [
    "### `Numpy` com dados faltantes/inválidos\n",
    "\n",
    "O `Numpy` possui o módulo `np.ma` para lidar com arrays que podem possuir dados faltantes ou inválidos. Este módulo introduz o objeto `MaskedArray` que é uma junção entre um `ndarray` normal com uma máscara, que pode ser um `nomask` ou uma array de booleanos. Quando um elemento da máscara é `True`, o correspondente elemento do array é inválido.\n",
    "Trabalhando com `MaskedArray`'s, os dados inválidos não são considerados nas computações"
   ]
  },
  {
   "cell_type": "code",
   "execution_count": 23,
   "id": "4c280e2e",
   "metadata": {},
   "outputs": [
    {
     "name": "stdout",
     "output_type": "stream",
     "text": [
      "<class 'numpy.ma.MaskedArray'>\n"
     ]
    },
    {
     "data": {
      "text/plain": [
       "masked_array(data=[1, 2, 3, --, 5],\n",
       "             mask=[False, False, False,  True, False],\n",
       "       fill_value=999999)"
      ]
     },
     "execution_count": 23,
     "metadata": {},
     "output_type": "execute_result"
    }
   ],
   "source": [
    "import numpy as np\n",
    "from numpy import ma\n",
    "\n",
    "x = np.array([1, 2, 3, -1, 5])\n",
    "\n",
    "mask = x < 0\n",
    "mx = ma.masked_array(x, mask=mask)\n",
    "\n",
    "print(type(mx))\n",
    "mx"
   ]
  },
  {
   "cell_type": "code",
   "execution_count": 24,
   "id": "3f0aa015",
   "metadata": {},
   "outputs": [
    {
     "name": "stdout",
     "output_type": "stream",
     "text": [
      "2.75\n",
      "True\n"
     ]
    }
   ],
   "source": [
    "print(mx.mean())\n",
    "print(mx.mean() == (1 + 2 + 3 + 5) / 4)"
   ]
  },
  {
   "cell_type": "markdown",
   "id": "0ad688c4",
   "metadata": {},
   "source": [
    "### `Pandas` com dados faltantes\n",
    "\n",
    "O `Pandas` também funciona com dados faltantes."
   ]
  },
  {
   "cell_type": "code",
   "execution_count": 65,
   "id": "14be8c70",
   "metadata": {},
   "outputs": [
    {
     "data": {
      "text/html": [
       "<div>\n",
       "<style scoped>\n",
       "    .dataframe tbody tr th:only-of-type {\n",
       "        vertical-align: middle;\n",
       "    }\n",
       "\n",
       "    .dataframe tbody tr th {\n",
       "        vertical-align: top;\n",
       "    }\n",
       "\n",
       "    .dataframe thead th {\n",
       "        text-align: right;\n",
       "    }\n",
       "</style>\n",
       "<table border=\"1\" class=\"dataframe\">\n",
       "  <thead>\n",
       "    <tr style=\"text-align: right;\">\n",
       "      <th></th>\n",
       "      <th>A</th>\n",
       "      <th>B</th>\n",
       "    </tr>\n",
       "  </thead>\n",
       "  <tbody>\n",
       "    <tr>\n",
       "      <th>0</th>\n",
       "      <td>1</td>\n",
       "      <td>6</td>\n",
       "    </tr>\n",
       "    <tr>\n",
       "      <th>1</th>\n",
       "      <td>2</td>\n",
       "      <td>&lt;NA&gt;</td>\n",
       "    </tr>\n",
       "    <tr>\n",
       "      <th>2</th>\n",
       "      <td>3</td>\n",
       "      <td>8</td>\n",
       "    </tr>\n",
       "    <tr>\n",
       "      <th>3</th>\n",
       "      <td>&lt;NA&gt;</td>\n",
       "      <td>&lt;NA&gt;</td>\n",
       "    </tr>\n",
       "    <tr>\n",
       "      <th>4</th>\n",
       "      <td>5</td>\n",
       "      <td>10</td>\n",
       "    </tr>\n",
       "  </tbody>\n",
       "</table>\n",
       "</div>"
      ],
      "text/plain": [
       "      A     B\n",
       "0     1     6\n",
       "1     2  <NA>\n",
       "2     3     8\n",
       "3  <NA>  <NA>\n",
       "4     5    10"
      ]
     },
     "metadata": {},
     "output_type": "display_data"
    },
    {
     "name": "stdout",
     "output_type": "stream",
     "text": [
      "<class 'pandas.core.frame.DataFrame'>\n",
      "RangeIndex: 5 entries, 0 to 4\n",
      "Data columns (total 2 columns):\n",
      " #   Column  Non-Null Count  Dtype\n",
      "---  ------  --------------  -----\n",
      " 0   A       4 non-null      Int64\n",
      " 1   B       3 non-null      Int64\n",
      "dtypes: Int64(2)\n",
      "memory usage: 218.0 bytes\n"
     ]
    }
   ],
   "source": [
    "df = pd.DataFrame(\n",
    "    {\n",
    "        \"A\": [1, 2, 3, None, 5],\n",
    "        \"B\": [6, None, 8, None, 10],\n",
    "    },\n",
    "    dtype=\"Int64\",\n",
    ")\n",
    "display(df)\n",
    "df.info()"
   ]
  },
  {
   "cell_type": "markdown",
   "id": "02be63ab",
   "metadata": {},
   "source": [
    "`NA` são desconsiderados em computações"
   ]
  },
  {
   "cell_type": "code",
   "execution_count": 71,
   "id": "f280255b",
   "metadata": {},
   "outputs": [
    {
     "data": {
      "text/plain": [
       "A    2.75\n",
       "B     8.0\n",
       "dtype: Float64"
      ]
     },
     "execution_count": 71,
     "metadata": {},
     "output_type": "execute_result"
    }
   ],
   "source": [
    "df.mean()"
   ]
  },
  {
   "cell_type": "markdown",
   "id": "88157b5a",
   "metadata": {},
   "source": [
    "`NA` são propagados em operações"
   ]
  },
  {
   "cell_type": "code",
   "execution_count": 73,
   "id": "b3985f41",
   "metadata": {},
   "outputs": [
    {
     "data": {
      "text/plain": [
       "0       7\n",
       "1    <NA>\n",
       "2      11\n",
       "3    <NA>\n",
       "4      15\n",
       "dtype: Int64"
      ]
     },
     "execution_count": 73,
     "metadata": {},
     "output_type": "execute_result"
    }
   ],
   "source": [
    "df[\"A\"] + df[\"B\"]"
   ]
  },
  {
   "cell_type": "markdown",
   "id": "dbaf9643",
   "metadata": {},
   "source": [
    "Podemos verificar os `NA`'s estão e substituí-los"
   ]
  },
  {
   "cell_type": "code",
   "execution_count": 74,
   "id": "527b9f63",
   "metadata": {},
   "outputs": [
    {
     "data": {
      "text/html": [
       "<div>\n",
       "<style scoped>\n",
       "    .dataframe tbody tr th:only-of-type {\n",
       "        vertical-align: middle;\n",
       "    }\n",
       "\n",
       "    .dataframe tbody tr th {\n",
       "        vertical-align: top;\n",
       "    }\n",
       "\n",
       "    .dataframe thead th {\n",
       "        text-align: right;\n",
       "    }\n",
       "</style>\n",
       "<table border=\"1\" class=\"dataframe\">\n",
       "  <thead>\n",
       "    <tr style=\"text-align: right;\">\n",
       "      <th></th>\n",
       "      <th>A</th>\n",
       "      <th>B</th>\n",
       "    </tr>\n",
       "  </thead>\n",
       "  <tbody>\n",
       "    <tr>\n",
       "      <th>0</th>\n",
       "      <td>False</td>\n",
       "      <td>False</td>\n",
       "    </tr>\n",
       "    <tr>\n",
       "      <th>1</th>\n",
       "      <td>False</td>\n",
       "      <td>True</td>\n",
       "    </tr>\n",
       "    <tr>\n",
       "      <th>2</th>\n",
       "      <td>False</td>\n",
       "      <td>False</td>\n",
       "    </tr>\n",
       "    <tr>\n",
       "      <th>3</th>\n",
       "      <td>True</td>\n",
       "      <td>True</td>\n",
       "    </tr>\n",
       "    <tr>\n",
       "      <th>4</th>\n",
       "      <td>False</td>\n",
       "      <td>False</td>\n",
       "    </tr>\n",
       "  </tbody>\n",
       "</table>\n",
       "</div>"
      ],
      "text/plain": [
       "       A      B\n",
       "0  False  False\n",
       "1  False   True\n",
       "2  False  False\n",
       "3   True   True\n",
       "4  False  False"
      ]
     },
     "execution_count": 74,
     "metadata": {},
     "output_type": "execute_result"
    }
   ],
   "source": [
    "df.isna()"
   ]
  },
  {
   "cell_type": "code",
   "execution_count": 80,
   "id": "26d9e17e",
   "metadata": {},
   "outputs": [
    {
     "data": {
      "text/html": [
       "<div>\n",
       "<style scoped>\n",
       "    .dataframe tbody tr th:only-of-type {\n",
       "        vertical-align: middle;\n",
       "    }\n",
       "\n",
       "    .dataframe tbody tr th {\n",
       "        vertical-align: top;\n",
       "    }\n",
       "\n",
       "    .dataframe thead th {\n",
       "        text-align: right;\n",
       "    }\n",
       "</style>\n",
       "<table border=\"1\" class=\"dataframe\">\n",
       "  <thead>\n",
       "    <tr style=\"text-align: right;\">\n",
       "      <th></th>\n",
       "      <th>A</th>\n",
       "      <th>B</th>\n",
       "    </tr>\n",
       "  </thead>\n",
       "  <tbody>\n",
       "    <tr>\n",
       "      <th>0</th>\n",
       "      <td>1</td>\n",
       "      <td>6</td>\n",
       "    </tr>\n",
       "    <tr>\n",
       "      <th>1</th>\n",
       "      <td>2</td>\n",
       "      <td>-1</td>\n",
       "    </tr>\n",
       "    <tr>\n",
       "      <th>2</th>\n",
       "      <td>3</td>\n",
       "      <td>8</td>\n",
       "    </tr>\n",
       "    <tr>\n",
       "      <th>3</th>\n",
       "      <td>-1</td>\n",
       "      <td>-1</td>\n",
       "    </tr>\n",
       "    <tr>\n",
       "      <th>4</th>\n",
       "      <td>5</td>\n",
       "      <td>10</td>\n",
       "    </tr>\n",
       "  </tbody>\n",
       "</table>\n",
       "</div>"
      ],
      "text/plain": [
       "    A   B\n",
       "0   1   6\n",
       "1   2  -1\n",
       "2   3   8\n",
       "3  -1  -1\n",
       "4   5  10"
      ]
     },
     "execution_count": 80,
     "metadata": {},
     "output_type": "execute_result"
    }
   ],
   "source": [
    "df = pd.DataFrame(\n",
    "    {\n",
    "        \"A\": [1, 2, 3, None, 5],\n",
    "        \"B\": [6, None, 8, None, 10],\n",
    "    },\n",
    "    dtype=\"Int64\",\n",
    ")\n",
    "df = df.fillna(-1)\n",
    "# df[df.isna()] = -1\n",
    "\n",
    "df"
   ]
  },
  {
   "cell_type": "markdown",
   "id": "420df970",
   "metadata": {},
   "source": [
    "## Salvando/Carregando `DataFrame`"
   ]
  },
  {
   "cell_type": "code",
   "execution_count": 83,
   "id": "c3558602",
   "metadata": {},
   "outputs": [
    {
     "data": {
      "text/html": [
       "<div>\n",
       "<style scoped>\n",
       "    .dataframe tbody tr th:only-of-type {\n",
       "        vertical-align: middle;\n",
       "    }\n",
       "\n",
       "    .dataframe tbody tr th {\n",
       "        vertical-align: top;\n",
       "    }\n",
       "\n",
       "    .dataframe thead th {\n",
       "        text-align: right;\n",
       "    }\n",
       "</style>\n",
       "<table border=\"1\" class=\"dataframe\">\n",
       "  <thead>\n",
       "    <tr style=\"text-align: right;\">\n",
       "      <th></th>\n",
       "      <th>A</th>\n",
       "      <th>B</th>\n",
       "      <th>C</th>\n",
       "    </tr>\n",
       "  </thead>\n",
       "  <tbody>\n",
       "    <tr>\n",
       "      <th>0</th>\n",
       "      <td>5</td>\n",
       "      <td>True</td>\n",
       "      <td>a</td>\n",
       "    </tr>\n",
       "    <tr>\n",
       "      <th>1</th>\n",
       "      <td>6</td>\n",
       "      <td>True</td>\n",
       "      <td>b</td>\n",
       "    </tr>\n",
       "    <tr>\n",
       "      <th>2</th>\n",
       "      <td>7</td>\n",
       "      <td>True</td>\n",
       "      <td>c</td>\n",
       "    </tr>\n",
       "    <tr>\n",
       "      <th>3</th>\n",
       "      <td>8</td>\n",
       "      <td>False</td>\n",
       "      <td>d</td>\n",
       "    </tr>\n",
       "    <tr>\n",
       "      <th>4</th>\n",
       "      <td>9</td>\n",
       "      <td>False</td>\n",
       "      <td>e</td>\n",
       "    </tr>\n",
       "    <tr>\n",
       "      <th>5</th>\n",
       "      <td>10</td>\n",
       "      <td>False</td>\n",
       "      <td>f</td>\n",
       "    </tr>\n",
       "    <tr>\n",
       "      <th>6</th>\n",
       "      <td>11</td>\n",
       "      <td>False</td>\n",
       "      <td>g</td>\n",
       "    </tr>\n",
       "    <tr>\n",
       "      <th>7</th>\n",
       "      <td>12</td>\n",
       "      <td>False</td>\n",
       "      <td>h</td>\n",
       "    </tr>\n",
       "    <tr>\n",
       "      <th>8</th>\n",
       "      <td>13</td>\n",
       "      <td>False</td>\n",
       "      <td>i</td>\n",
       "    </tr>\n",
       "    <tr>\n",
       "      <th>9</th>\n",
       "      <td>14</td>\n",
       "      <td>False</td>\n",
       "      <td>j</td>\n",
       "    </tr>\n",
       "  </tbody>\n",
       "</table>\n",
       "</div>"
      ],
      "text/plain": [
       "    A      B  C\n",
       "0   5   True  a\n",
       "1   6   True  b\n",
       "2   7   True  c\n",
       "3   8  False  d\n",
       "4   9  False  e\n",
       "5  10  False  f\n",
       "6  11  False  g\n",
       "7  12  False  h\n",
       "8  13  False  i\n",
       "9  14  False  j"
      ]
     },
     "execution_count": 83,
     "metadata": {},
     "output_type": "execute_result"
    }
   ],
   "source": [
    "df = pd.DataFrame(\n",
    "    {\n",
    "        \"A\": np.arange(5, 15),\n",
    "        \"B\": np.arange(10) < 3,\n",
    "        \"C\": list(\"abcdefghij\"),\n",
    "    }\n",
    ")\n",
    "\n",
    "df"
   ]
  },
  {
   "cell_type": "code",
   "execution_count": 91,
   "id": "7f14bbf0",
   "metadata": {},
   "outputs": [],
   "source": [
    "df.to_csv(\"my_dataframe.csv\")"
   ]
  },
  {
   "cell_type": "code",
   "execution_count": 94,
   "id": "e9a34fbb",
   "metadata": {},
   "outputs": [
    {
     "data": {
      "text/html": [
       "<div>\n",
       "<style scoped>\n",
       "    .dataframe tbody tr th:only-of-type {\n",
       "        vertical-align: middle;\n",
       "    }\n",
       "\n",
       "    .dataframe tbody tr th {\n",
       "        vertical-align: top;\n",
       "    }\n",
       "\n",
       "    .dataframe thead th {\n",
       "        text-align: right;\n",
       "    }\n",
       "</style>\n",
       "<table border=\"1\" class=\"dataframe\">\n",
       "  <thead>\n",
       "    <tr style=\"text-align: right;\">\n",
       "      <th></th>\n",
       "      <th>A</th>\n",
       "      <th>B</th>\n",
       "      <th>C</th>\n",
       "    </tr>\n",
       "  </thead>\n",
       "  <tbody>\n",
       "    <tr>\n",
       "      <th>0</th>\n",
       "      <td>5</td>\n",
       "      <td>True</td>\n",
       "      <td>a</td>\n",
       "    </tr>\n",
       "    <tr>\n",
       "      <th>1</th>\n",
       "      <td>6</td>\n",
       "      <td>True</td>\n",
       "      <td>b</td>\n",
       "    </tr>\n",
       "    <tr>\n",
       "      <th>2</th>\n",
       "      <td>7</td>\n",
       "      <td>True</td>\n",
       "      <td>c</td>\n",
       "    </tr>\n",
       "    <tr>\n",
       "      <th>3</th>\n",
       "      <td>8</td>\n",
       "      <td>False</td>\n",
       "      <td>d</td>\n",
       "    </tr>\n",
       "    <tr>\n",
       "      <th>4</th>\n",
       "      <td>9</td>\n",
       "      <td>False</td>\n",
       "      <td>e</td>\n",
       "    </tr>\n",
       "    <tr>\n",
       "      <th>5</th>\n",
       "      <td>10</td>\n",
       "      <td>False</td>\n",
       "      <td>f</td>\n",
       "    </tr>\n",
       "    <tr>\n",
       "      <th>6</th>\n",
       "      <td>11</td>\n",
       "      <td>False</td>\n",
       "      <td>g</td>\n",
       "    </tr>\n",
       "    <tr>\n",
       "      <th>7</th>\n",
       "      <td>12</td>\n",
       "      <td>False</td>\n",
       "      <td>h</td>\n",
       "    </tr>\n",
       "    <tr>\n",
       "      <th>8</th>\n",
       "      <td>13</td>\n",
       "      <td>False</td>\n",
       "      <td>i</td>\n",
       "    </tr>\n",
       "    <tr>\n",
       "      <th>9</th>\n",
       "      <td>14</td>\n",
       "      <td>False</td>\n",
       "      <td>j</td>\n",
       "    </tr>\n",
       "  </tbody>\n",
       "</table>\n",
       "</div>"
      ],
      "text/plain": [
       "    A      B  C\n",
       "0   5   True  a\n",
       "1   6   True  b\n",
       "2   7   True  c\n",
       "3   8  False  d\n",
       "4   9  False  e\n",
       "5  10  False  f\n",
       "6  11  False  g\n",
       "7  12  False  h\n",
       "8  13  False  i\n",
       "9  14  False  j"
      ]
     },
     "execution_count": 94,
     "metadata": {},
     "output_type": "execute_result"
    }
   ],
   "source": [
    "df_loaded = pd.read_csv(\"my_dataframe.csv\", index_col=0)\n",
    "df_loaded"
   ]
  }
 ],
 "metadata": {
  "kernelspec": {
   "display_name": "venv",
   "language": "python",
   "name": "python3"
  },
  "language_info": {
   "codemirror_mode": {
    "name": "ipython",
    "version": 3
   },
   "file_extension": ".py",
   "mimetype": "text/x-python",
   "name": "python",
   "nbconvert_exporter": "python",
   "pygments_lexer": "ipython3",
   "version": "3.10.12"
  }
 },
 "nbformat": 4,
 "nbformat_minor": 5
}
